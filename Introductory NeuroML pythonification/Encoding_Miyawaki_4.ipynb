{
 "cells": [
  {
   "cell_type": "code",
   "execution_count": 1,
   "metadata": {},
   "outputs": [],
   "source": [
    "import warnings\n",
    "warnings.filterwarnings(\"ignore\")\n",
    "\n",
    "import numpy as np\n",
    "import seaborn as sns\n",
    "from nilearn.input_data import MultiNiftiMasker\n",
    "from nilearn.datasets import fetch_miyawaki2008\n",
    "import pylab as plt\n",
    "import os.path as op\n",
    "from tqdm import tqdm\n",
    "\n",
    "sns.set_style('white')\n",
    "%matplotlib inline"
   ]
  },
  {
   "cell_type": "markdown",
   "metadata": {},
   "source": [
    "## Encoding models for visual stimuli"
   ]
  },
  {
   "cell_type": "markdown",
   "metadata": {},
   "source": [
    "Thus far we have focused on using predictive models for decoding. That is - predicting states of the world using brain activity. However, it is possible to do the reverse: predict brain activity using information about the world. These are known as encoding models. It is possible to fit encoding models using nilearn and scikit-learn. Here we'll use an encoding model to predict fMRI data from visual stimuli, using the dataset from Miyawaki et al., 2008."
   ]
  },
  {
   "cell_type": "markdown",
   "metadata": {},
   "source": [
    "### The Miyawaki Dataset\n",
    "Participants were shown images, which consisted of random 10x10 binary (either black or white) pixels, and the corresponding fMRI activity was recorded. We will try to predict the activity in each voxel from the binary pixel-values of the presented images. Then we extract the receptive fields for a set of voxels to see which pixel location a voxel is most sensitive to."
   ]
  },
  {
   "cell_type": "markdown",
   "metadata": {},
   "source": [
    "## Preparing the Data"
   ]
  },
  {
   "cell_type": "code",
   "execution_count": 2,
   "metadata": {},
   "outputs": [
    {
     "name": "stdout",
     "output_type": "stream",
     "text": [
      "Miyawaki 2008\n",
      "\n",
      "\n",
      "Notes\n",
      "-----\n",
      "Collection of result images from MVPA investigation of the human visual systems.\n",
      "\n",
      "This fMRI study reconstructed visual images by combining local\n",
      "image bases of multiple scales. Their contrasts were independently\n",
      "decoded from fMRI activity by selecting important voxels and\n",
      "capitalizing on their correlation structure.\n",
      "\n",
      "Content\n",
      "-------\n",
      "    :'label': Paths to text files containing session and target data\n",
      "    :'func': Paths to nifti files with BOLD data\n",
      "    :'mask': Path to general mask nifti that defines target volume in visual cortex\n",
      "    :'mask_roi': List of paths to images with specific data ('RH' for right hemisphere, 'LH' for left hemisphere, 'Vxxx' denote visual areas)\n",
      "\n",
      "\n",
      "References\n",
      "----------\n",
      "For more information on this dataset's structure, see\n",
      "http://www.cns.atr.jp/dni/en/downloads/ fmri-data-set-for-visual-image-reconstruction\n",
      "\n",
      "Miyawaki, Y., Uchida, H., Yamashita, O., Sato, M. A.,\n",
      "Morito, Y., Tanabe, H. C., ... & Kamitani, Y. (2008).\n",
      "Neuron, 60(5), 915-929.\n",
      "\n",
      "Licence: unknown.\n"
     ]
    }
   ],
   "source": [
    "# First we load the full dataset using nilearn\n",
    "dataset = fetch_miyawaki2008()\n",
    "print(dataset['description'].decode('utf-8'))"
   ]
  },
  {
   "cell_type": "markdown",
   "metadata": {},
   "source": [
    "This dataset is broken up into both training and testing data. Here we will only use the training data of this study, where random binary images were shown."
   ]
  },
  {
   "cell_type": "code",
   "execution_count": 3,
   "metadata": {},
   "outputs": [],
   "source": [
    "# Training data starts after the first 12 files\n",
    "fmri_random_runs_filenames = dataset.func[12:]\n",
    "stimuli_random_runs_filenames = dataset.label[12:]"
   ]
  },
  {
   "cell_type": "markdown",
   "metadata": {},
   "source": [
    "### Loading the Neural Data\n",
    "\n",
    "#### Working with Multiple data files\n",
    "The nilearn.input_data.MultiNiftiMasker class allows us to mask multiple Nifti files at once. We will use this to load the fMRI data, clean and mask it."
   ]
  },
  {
   "cell_type": "code",
   "execution_count": 4,
   "metadata": {},
   "outputs": [
    {
     "data": {
      "text/plain": [
       "['C:\\\\Users\\\\jzm0144/nilearn_data\\\\miyawaki2008\\\\func\\\\data_random_run01.nii.gz',\n",
       " 'C:\\\\Users\\\\jzm0144/nilearn_data\\\\miyawaki2008\\\\func\\\\data_random_run02.nii.gz',\n",
       " 'C:\\\\Users\\\\jzm0144/nilearn_data\\\\miyawaki2008\\\\func\\\\data_random_run03.nii.gz',\n",
       " 'C:\\\\Users\\\\jzm0144/nilearn_data\\\\miyawaki2008\\\\func\\\\data_random_run04.nii.gz',\n",
       " 'C:\\\\Users\\\\jzm0144/nilearn_data\\\\miyawaki2008\\\\func\\\\data_random_run05.nii.gz']"
      ]
     },
     "execution_count": 4,
     "metadata": {},
     "output_type": "execute_result"
    }
   ],
   "source": [
    "# This is a list of filenames, corresponding to multiple runs of the experiment\n",
    "fmri_random_runs_filenames[:5]"
   ]
  },
  {
   "cell_type": "code",
   "execution_count": 5,
   "metadata": {},
   "outputs": [],
   "source": [
    "masker = MultiNiftiMasker(mask_img=dataset.mask, detrend=True, standardize=True)"
   ]
  },
  {
   "cell_type": "markdown",
   "metadata": {},
   "source": [
    "### Vectorizing the data "
   ]
  },
  {
   "cell_type": "code",
   "execution_count": 6,
   "metadata": {},
   "outputs": [
    {
     "name": "stderr",
     "output_type": "stream",
     "text": [
      "C:\\Users\\jzm0144\\AppData\\Roaming\\Python\\Python37\\site-packages\\nilearn\\_utils\\cache_mixin.py:301: DeprecationWarning: The 'cachedir' attribute has been deprecated in version 0.12 and will be removed in version 0.14.\n",
      "Use os.path.join(memory.location, 'joblib') attribute instead.\n",
      "  if self.memory_level == 0 and self.memory.cachedir is not None:\n"
     ]
    }
   ],
   "source": [
    "# This will mask and clean each dataset\n",
    "# It outputs a list of vectorized arrays\n",
    "masker.fit()\n",
    "fmri_data = masker.transform(fmri_random_runs_filenames)"
   ]
  },
  {
   "cell_type": "code",
   "execution_count": 7,
   "metadata": {},
   "outputs": [
    {
     "name": "stdout",
     "output_type": "stream",
     "text": [
      "Type:  <class 'list'> \n",
      "---\n",
      "Length:  20\n"
     ]
    },
    {
     "data": {
      "text/plain": [
       "array([[-0.84576047, -2.00409847, -0.63856833, ..., -0.0703331 ,\n",
       "         2.00162479,  0.13446872],\n",
       "       [-0.86547237, -1.7537534 , -1.17549528, ...,  0.94502133,\n",
       "        -0.81782921, -0.57213769],\n",
       "       [-0.39525228, -0.13824568, -0.56777185, ...,  0.97448285,\n",
       "         0.69280806, -0.91134732],\n",
       "       ...,\n",
       "       [-1.06923005, -0.05674129, -0.05552219, ..., -0.1757492 ,\n",
       "        -1.06307467, -0.27648925],\n",
       "       [ 0.67326913,  2.0415803 , -0.33138947, ...,  0.81178806,\n",
       "        -0.08484034, -0.06203715],\n",
       "       [ 1.74079517,  1.86753125,  1.93358524, ...,  0.03240438,\n",
       "         1.31066568, -2.28357008]])"
      ]
     },
     "execution_count": 7,
     "metadata": {},
     "output_type": "execute_result"
    }
   ],
   "source": [
    "print('Type: ', type(fmri_data), '\\n---\\nLength: ', len(fmri_data))\n",
    "fmri_data[0]"
   ]
  },
  {
   "cell_type": "markdown",
   "metadata": {},
   "source": [
    "## Reading in Stimuli\n",
    "These files define the stimuli that are used in this dataset"
   ]
  },
  {
   "cell_type": "code",
   "execution_count": 8,
   "metadata": {},
   "outputs": [
    {
     "data": {
      "text/plain": [
       "['C:\\\\Users\\\\jzm0144/nilearn_data\\\\miyawaki2008\\\\label\\\\data_random_run01_label.csv',\n",
       " 'C:\\\\Users\\\\jzm0144/nilearn_data\\\\miyawaki2008\\\\label\\\\data_random_run02_label.csv',\n",
       " 'C:\\\\Users\\\\jzm0144/nilearn_data\\\\miyawaki2008\\\\label\\\\data_random_run03_label.csv',\n",
       " 'C:\\\\Users\\\\jzm0144/nilearn_data\\\\miyawaki2008\\\\label\\\\data_random_run04_label.csv',\n",
       " 'C:\\\\Users\\\\jzm0144/nilearn_data\\\\miyawaki2008\\\\label\\\\data_random_run05_label.csv']"
      ]
     },
     "execution_count": 8,
     "metadata": {},
     "output_type": "execute_result"
    }
   ],
   "source": [
    "stimuli_random_runs_filenames[:5]"
   ]
  },
  {
   "cell_type": "markdown",
   "metadata": {},
   "source": [
    "Since it's a CSV, we'll again use pandas to load it. Each CSV is one run. Within each CSV, each row is one stimulus presentation, consisting of a 10x10 grid of black and white squares:"
   ]
  },
  {
   "cell_type": "code",
   "execution_count": 9,
   "metadata": {},
   "outputs": [
    {
     "data": {
      "text/plain": [
       "(144, 100)"
      ]
     },
     "execution_count": 9,
     "metadata": {},
     "output_type": "execute_result"
    }
   ],
   "source": [
    "import pandas as pd\n",
    "stimulus = pd.read_csv(stimuli_random_runs_filenames[0])\n",
    "stimulus.shape"
   ]
  },
  {
   "cell_type": "markdown",
   "metadata": {},
   "source": [
    "### Reshaping so we can plot them \n",
    "Here we will reshape our stimulus data so we can get a feel for what they look like."
   ]
  },
  {
   "cell_type": "code",
   "execution_count": 10,
   "metadata": {},
   "outputs": [],
   "source": [
    "# shape of the binary (i-e. black and white values) image in pixels\n",
    "stimulus_shape = (10, 10)\n",
    "\n",
    "# We load the visual stimuli from the csv files\n",
    "stimuli = []\n",
    "for stimulus_run in stimuli_random_runs_filenames:\n",
    "    stimulus = pd.read_csv(stimulus_run, header=None).values.astype(int)\n",
    "    \n",
    "    # Reshape so it's 10x10\n",
    "    stimulus = stimulus.reshape((-1,) + stimulus_shape, order='F')\n",
    "    stimuli.append(stimulus)"
   ]
  },
  {
   "cell_type": "markdown",
   "metadata": {},
   "source": [
    "Let's take a look at some of these binary images:"
   ]
  },
  {
   "cell_type": "code",
   "execution_count": 11,
   "metadata": {},
   "outputs": [
    {
     "data": {
      "image/png": "[encoded data removed]",
      "text/plain": [
       "<Figure size 720x360 with 2 Axes>"
      ]
     },
     "metadata": {
      "needs_background": "light"
     },
     "output_type": "display_data"
    }
   ],
   "source": [
    "fig, axs = plt.subplots(1, 2, figsize=(10, 5))\n",
    "for (run, stimulus), ax in zip([(0, 124),(2, 101)], axs):\n",
    "    ax.imshow(stimuli[run][stimulus], interpolation = 'nearest', cmap = 'gray')\n",
    "    ax.set_title('Run {}, Stimulus {}'.format(run, stimulus))\n",
    "    ax.set_axis_off()\n",
    "plt.tight_layout(w_pad = 10)"
   ]
  },
  {
   "cell_type": "markdown",
   "metadata": {},
   "source": [
    "## Reshaping data for the model \n",
    "We now stack the fmri and stimulus data and remove an offset in the beginning/end. This will prep the data for our model fitting."
   ]
  },
  {
   "cell_type": "code",
   "execution_count": 12,
   "metadata": {},
   "outputs": [],
   "source": [
    "# Removing the offset (2 values) so they're aligned preperly\n",
    "fmri_data = np.vstack([fmri_run[2:] for fmri_run in fmri_data])\n",
    "stimuli = np.vstack([stimuli_run[:-2] for stimuli_run in stimuli]).astype(float)"
   ]
  },
  {
   "cell_type": "markdown",
   "metadata": {},
   "source": [
    "fmri_data is matrix of samples x voxels"
   ]
  },
  {
   "cell_type": "code",
   "execution_count": 13,
   "metadata": {},
   "outputs": [
    {
     "name": "stdout",
     "output_type": "stream",
     "text": [
      "(2860, 5438)\n"
     ]
    }
   ],
   "source": [
    "print(fmri_data.shape)"
   ]
  },
  {
   "cell_type": "markdown",
   "metadata": {},
   "source": [
    "We flatten the last wo dimensions of stimuli so it is a matix of samples x pixels."
   ]
  },
  {
   "cell_type": "code",
   "execution_count": 14,
   "metadata": {},
   "outputs": [
    {
     "name": "stdout",
     "output_type": "stream",
     "text": [
      "(2860, 100)\n"
     ]
    }
   ],
   "source": [
    "# Flatten the stimuli\n",
    "stimuli = np.reshape(stimuli, (-1, stimulus_shape[0] * stimulus_shape[1]))\n",
    "\n",
    "print(stimuli.shape)"
   ]
  },
  {
   "cell_type": "markdown",
   "metadata": {},
   "source": [
    "    Note: We don't have a fancy ImageVectorizer object so we're doing the reshaping by hand. If you were implementing this code in your own work, it may be a good idea to write your own Vectorizer object."
   ]
  },
  {
   "cell_type": "markdown",
   "metadata": {},
   "source": [
    "## Building the encoding models\n",
    "Previously, we built a classifier using brain activity and labels for different stimuli that were presented. In this case, we wish to make a different kind of prediction: a continuous representation of the each voxel using the pixel data from the stimuli.\n",
    "\n",
    "These types of models are called voxel-wise encoding models, and they use regression to predict continuous outputs from data. Specifically, we'll use Ridge regression. For each voxel we fit an independent regression model, using the pixel-values of the visual stimuli to predict the neuronal activity in this voxel."
   ]
  },
  {
   "cell_type": "code",
   "execution_count": 15,
   "metadata": {},
   "outputs": [],
   "source": [
    "from sklearn.linear_model import Ridge\n",
    "from sklearn.model_selection import KFold\n",
    "from tqdm import tqdm"
   ]
  },
  {
   "cell_type": "markdown",
   "metadata": {},
   "source": [
    "### Cross-validating our encoding model\n",
    "Using 10-fold cv, we partition the data into 10 folds. We hold out each fold of the data for testing, then fit a ridge regression to the remaining 9/10 of the data.\n",
    "\n",
    "As this is an encoding model, We'll use stimuli as predictors and fmri_data as targets, and create predictions for the held-out 10th set.\n",
    "\n",
    "In addition, we'll score the model using the coefficient using the coefficient of determination (R^2). This estimates the model's ability to explain variance in the neural activity."
   ]
  },
  {
   "cell_type": "code",
   "execution_count": 16,
   "metadata": {},
   "outputs": [],
   "source": [
    "from sklearn.metrics import r2_score\n",
    "\n",
    "# Define our estimator and cross-validation objects...\n",
    "estimator = Ridge(alpha=100.)\n",
    "cv = KFold(n_splits=10)"
   ]
  },
  {
   "cell_type": "markdown",
   "metadata": {},
   "source": [
    "Let's take a quick look at what our cross_validation is actually doing..."
   ]
  },
  {
   "cell_type": "code",
   "execution_count": 17,
   "metadata": {},
   "outputs": [
    {
     "data": {
      "image/png": "[encoded data removed]",
      "text/plain": [
       "<Figure size 432x288 with 1 Axes>"
      ]
     },
     "metadata": {
      "needs_background": "light"
     },
     "output_type": "display_data"
    }
   ],
   "source": [
    "fig, ax = plt.subplots()\n",
    "for ii, (tr, tt) in enumerate(cv.split(range(10))):\n",
    "    ax.plot([tr, tr], [ii, ii+1], 'C0', lw=10)\n",
    "    ax.plot([tt, tt], [ii, ii+1], 'C1', lw=10)"
   ]
  },
  {
   "cell_type": "markdown",
   "metadata": {},
   "source": [
    "Now we'll loop through each iteration of the CV, fit the model on a subset of data, and test it on another subset of data."
   ]
  },
  {
   "cell_type": "code",
   "execution_count": 18,
   "metadata": {},
   "outputs": [
    {
     "name": "stderr",
     "output_type": "stream",
     "text": [
      "100%|██████████| 10/10 [00:03<00:00,  3.04it/s]\n"
     ]
    }
   ],
   "source": [
    "scores = []\n",
    "for train, test in tqdm(list(cv.split(fmri_data))):\n",
    "    # We train the Ridge estimator on the training set\n",
    "    X = stimuli.reshape(-1, 100)\n",
    "    X_train = X[train]\n",
    "    X_test  = X[test]\n",
    "    y_train = fmri_data[train]\n",
    "    y_test  = fmri_data[test]\n",
    "    \n",
    "    # And predict the fMRI activity for the test set\n",
    "    model = Ridge(alpha=100.).fit(X_train, y_train)\n",
    "    predictions = model.predict(X_test)\n",
    "    \n",
    "    # We compute how much variance our encoding model explains in each voxel\n",
    "    scores.append(r2_score(y_test, predictions, multioutput='raw_values'))"
   ]
  },
  {
   "cell_type": "markdown",
   "metadata": {},
   "source": [
    "## Mapping the encoding scores on the brain\n",
    "We've fit an encoding model for each voxel of the brain. Now we can inspect the model's performance at each location.\n",
    "\n",
    "To plot the scores onto the brain, we create a Nifti1Image using the scores output by our model. We'll again use the NiftiMasker to convert it back to volume space."
   ]
  },
  {
   "cell_type": "code",
   "execution_count": 19,
   "metadata": {},
   "outputs": [
    {
     "name": "stderr",
     "output_type": "stream",
     "text": [
      "C:\\Users\\jzm0144\\AppData\\Roaming\\Python\\Python37\\site-packages\\nilearn\\_utils\\cache_mixin.py:301: DeprecationWarning: The 'cachedir' attribute has been deprecated in version 0.12 and will be removed in version 0.14.\n",
      "Use os.path.join(memory.location, 'joblib') attribute instead.\n",
      "  if self.memory_level == 0 and self.memory.cachedir is not None:\n"
     ]
    }
   ],
   "source": [
    "cut_score = np.mean(scores, axis=0)\n",
    "cut_score[cut_score < 0] = 0\n",
    "# Bring the scores into the shape of the background brain\n",
    "score_map_img = masker.inverse_transform(cut_score)"
   ]
  },
  {
   "cell_type": "code",
   "execution_count": 20,
   "metadata": {},
   "outputs": [
    {
     "name": "stderr",
     "output_type": "stream",
     "text": [
      "C:\\Users\\jzm0144\\AppData\\Roaming\\Python\\Python37\\site-packages\\nilearn\\plotting\\displays.py:1239: DeprecationWarning: Using or importing the ABCs from 'collections' instead of from 'collections.abc' is deprecated, and in 3.8 it will stop working\n",
      "  if (not isinstance(cut_coords, collections.Sequence) and\n",
      "E:\\Janzaib_Masood\\Anaconda\\lib\\site-packages\\matplotlib\\figure.py:98: MatplotlibDeprecationWarning: \n",
      "Adding an axes using the same arguments as a previous axes currently reuses the earlier instance.  In a future version, a new instance will always be created and returned.  Meanwhile, this warning can be suppressed, and the future behavior ensured, by passing a unique label to each axes instance.\n",
      "  \"Adding an axes using the same arguments as a previous axes \"\n",
      "E:\\Janzaib_Masood\\Anaconda\\lib\\site-packages\\scipy\\ndimage\\measurements.py:272: DeprecationWarning: In future, it will be an error for 'np.bool_' scalars to be interpreted as an index\n",
      "  return _nd_image.find_objects(input, max_label)\n"
     ]
    },
    {
     "data": {
      "image/png": "[encoded data removed]",
      "text/plain": [
       "<Figure size 360x360 with 2 Axes>"
      ]
     },
     "metadata": {},
     "output_type": "display_data"
    }
   ],
   "source": [
    "from nilearn.plotting import plot_stat_map\n",
    "display = plot_stat_map(score_map_img, bg_img = dataset.background,\n",
    "                        cut_coords=[-8], display_mode='z', aspect=1.25,\n",
    "                        title = 'Explained variance per voxel')\n",
    "\n",
    "plt.gcf().set_size_inches(5, 5)"
   ]
  },
  {
   "cell_type": "markdown",
   "metadata": {},
   "source": [
    "### What does it mean to havea  \"good\" score in regression?\n",
    "In regression we're predicting a continuous variable. If we do a \"good\" job of predicting, then our predictions should be correlated with the \"True\" activity of the voxel. Let's visualize a good and bad voxel below:"
   ]
  },
  {
   "cell_type": "code",
   "execution_count": 21,
   "metadata": {},
   "outputs": [
    {
     "name": "stderr",
     "output_type": "stream",
     "text": [
      "E:\\Janzaib_Masood\\Anaconda\\lib\\site-packages\\scipy\\stats\\stats.py:1713: FutureWarning: Using a non-tuple sequence for multidimensional indexing is deprecated; use `arr[tuple(seq)]` instead of `arr[seq]`. In the future this will be interpreted as an array index, `arr[np.array(seq)]`, which will result either in an error or a different result.\n",
      "  return np.add.reduce(sorted[indexer] * weights, axis=axis) / sumval\n"
     ]
    },
    {
     "data": {
      "text/plain": [
       "[Text(0, 0.5, 'Voxel activity (predicted)'),\n",
       " Text(0.5, 0, 'Voxel activity (true)'),\n",
       " Text(0.5, 1.0, 'A bad voxel')]"
      ]
     },
     "execution_count": 21,
     "metadata": {},
     "output_type": "execute_result"
    },
    {
     "data": {
      "image/png": "[encoded data removed]",
      "text/plain": [
       "<Figure size 432x288 with 1 Axes>"
      ]
     },
     "metadata": {
      "needs_background": "light"
     },
     "output_type": "display_data"
    }
   ],
   "source": [
    "ax = sns.regplot(y_test[:, 0], predictions[:, 0])\n",
    "ax.set(title=\"A bad voxel\", xlabel=\"Voxel activity (true)\",\n",
    "                            ylabel=\"Voxel activity (predicted)\")"
   ]
  },
  {
   "cell_type": "code",
   "execution_count": 23,
   "metadata": {},
   "outputs": [
    {
     "data": {
      "text/plain": [
       "[Text(0, 0.5, 'Voxel activity (predicted)'),\n",
       " Text(0.5, 0, 'Voxel activity (true)'),\n",
       " Text(0.5, 1.0, 'A good voxel')]"
      ]
     },
     "execution_count": 23,
     "metadata": {},
     "output_type": "execute_result"
    },
    {
     "data": {
      "image/png": "[encoded data removed]",
      "text/plain": [
       "<Figure size 432x288 with 1 Axes>"
      ]
     },
     "metadata": {
      "needs_background": "light"
     },
     "output_type": "display_data"
    }
   ],
   "source": [
    "good_scores_ixs = np.where(cut_score > .3)[0]\n",
    "this_score_ix = good_scores_ixs[10]\n",
    "\n",
    "ax = sns.regplot(y_test[:, this_score_ix], predictions[:, this_score_ix])\n",
    "ax.set(title=\"A good voxel\", xlabel=\"Voxel activity (true)\",\n",
    "                             ylabel=\"Voxel activity (predicted)\")"
   ]
  },
  {
   "cell_type": "markdown",
   "metadata": {},
   "source": [
    "### Thresholding our scores and making a final plot\n",
    "We may also want to threshold our scores so that only \"valid\" scores are plotted. We'll do this thresholding below."
   ]
  },
  {
   "cell_type": "code",
   "execution_count": 25,
   "metadata": {},
   "outputs": [],
   "source": [
    "from nilearn.image import threshold_img\n",
    "thresholded_score_map_img = threshold_img(score_map_img, threshold=0.2)"
   ]
  },
  {
   "cell_type": "markdown",
   "metadata": {},
   "source": [
    "We'll highlight a few voxels of particular interest. We'll inspect these more closely later on."
   ]
  },
  {
   "cell_type": "code",
   "execution_count": 32,
   "metadata": {},
   "outputs": [
    {
     "data": {
      "image/png": "[encoded data removed]",
      "text/plain": [
       "<Figure size 864x864 with 2 Axes>"
      ]
     },
     "metadata": {},
     "output_type": "display_data"
    }
   ],
   "source": [
    "from nilearn.image.resampling import coord_transform\n",
    "\n",
    "def index_to_xy_coord(x, y, z = 10):\n",
    "    '''Transforms data index to coordinates of the background + offset'''\n",
    "    coords = coord_transform(x, y, z,\n",
    "                             affine=thresholded_score_map_img.affine)\n",
    "    return np.array(coords)[np.newaxis, :] + np.array([0, 1, 0])\n",
    "\n",
    "\n",
    "xy_indices_of_special_voxels = [(30, 10), (32, 10), (31, 9), (31, 10)]\n",
    "\n",
    "display = plot_stat_map(thresholded_score_map_img, bg_img=dataset.background,\n",
    "                        cut_coords=[-8], display_mode='z', aspect=1.25,\n",
    "                       title = 'Explained variance per voxel')\n",
    "\n",
    "# creating a number for each voxel and adding it to the statistical map\n",
    "for i, (x, y) in enumerate(xy_indices_of_special_voxels):\n",
    "    display.add_markers(index_to_xy_coord(x, y), marker_color='none',\n",
    "                        edgecolor=['b', 'r', 'magenta', 'g'][i],\n",
    "                        marker_size=140, marker='s')\n",
    "    \n",
    "\n",
    "# reset figure size after construction so colorbar gets rescaled too\n",
    "fig = plt.gcf()\n",
    "fig.set_size_inches(12, 12)"
   ]
  },
  {
   "cell_type": "markdown",
   "metadata": {},
   "source": [
    "## Model Introspection: Estimating receptive fields\n",
    "Now that we can see the distribution of scores across the voxels of interest, let's take a closer look at the receptive fields for the four marked voxels. It only makes sense to do this for voxels with a relatively high prediction score.\n",
    "\n",
    "A voxel's receptive field is the region of a stimulus (like an image) where the presence of an object (like a white instead of a black pixel), results in a change in activity in the voxel.\n",
    "\n",
    "In our case the receptive field is just vector of 100 regression coefficients (one for each pixel) reshaped into the 10x10 form of the original images."
   ]
  },
  {
   "cell_type": "code",
   "execution_count": 34,
   "metadata": {},
   "outputs": [],
   "source": [
    "from sklearn.linear_model import LassoLarsCV, RidgeCV\n",
    "from matplotlib import gridspec\n",
    "from matplotlib.patches import Rectangle\n",
    "\n",
    "# Automatically estimate the sparsity by cross-validation\n",
    "lasso = LassoLarsCV(max_iter=10)\n",
    "# Or find a smooth set of coefficients\n",
    "ridge = RidgeCV(alphas=np.logspace(-2, 2, 10))\n",
    "\n",
    "# This is the model we will actually use\n",
    "model = lasso\n",
    "\n",
    "# These are the indices for the voxels for which we'll estimate a receptive field.\n",
    "voxels_to_fit = [1780, 1951, 2131, 1935]\n",
    "\n",
    "# This is a pixel we'll highlight in each model's receptive field.\n",
    "marked_pixel = (4, 2)"
   ]
  },
  {
   "cell_type": "markdown",
   "metadata": {},
   "source": [
    "Next, We'll loop through each voxel, fit a regression model for it, and visualize the coefficients of that model.\n",
    "\n",
    "We'll plot the voxels so that the plots represent the relative positions of voxels."
   ]
  },
  {
   "cell_type": "code",
   "execution_count": 35,
   "metadata": {},
   "outputs": [
    {
     "name": "stderr",
     "output_type": "stream",
     "text": [
      "E:\\Janzaib_Masood\\Anaconda\\lib\\site-packages\\sklearn\\model_selection\\_split.py:2053: FutureWarning: You should specify a value for 'cv' instead of relying on the default value. The default value will change from 3 to 5 in version 0.22.\n",
      "  warnings.warn(CV_WARNING, FutureWarning)\n",
      "E:\\Janzaib_Masood\\Anaconda\\lib\\site-packages\\sklearn\\model_selection\\_split.py:2053: FutureWarning: You should specify a value for 'cv' instead of relying on the default value. The default value will change from 3 to 5 in version 0.22.\n",
      "  warnings.warn(CV_WARNING, FutureWarning)\n",
      "E:\\Janzaib_Masood\\Anaconda\\lib\\site-packages\\sklearn\\model_selection\\_split.py:2053: FutureWarning: You should specify a value for 'cv' instead of relying on the default value. The default value will change from 3 to 5 in version 0.22.\n",
      "  warnings.warn(CV_WARNING, FutureWarning)\n",
      "E:\\Janzaib_Masood\\Anaconda\\lib\\site-packages\\sklearn\\model_selection\\_split.py:2053: FutureWarning: You should specify a value for 'cv' instead of relying on the default value. The default value will change from 3 to 5 in version 0.22.\n",
      "  warnings.warn(CV_WARNING, FutureWarning)\n"
     ]
    },
    {
     "data": {
      "image/png": "[encoded data removed]",
      "text/plain": [
       "<Figure size 864x576 with 10 Axes>"
      ]
     },
     "metadata": {
      "needs_background": "light"
     },
     "output_type": "display_data"
    }
   ],
   "source": [
    "fig, axs = plt.subplots(2, 3, figsize=(12, 8))\n",
    "axs_to_plt = [0, 1, 2, 4]\n",
    "\n",
    "# We fit the model for each of the three voxels fo the upper row\n",
    "for i, index in enumerate(voxels_to_fit):\n",
    "    #-------------Fit the model----------\n",
    "    y = fmri_data[:, index]\n",
    "    model.fit(stimuli, y)\n",
    "    \n",
    "    #We reshape the coefficients into the form of the original images.\n",
    "    rf = model.coef_.reshape((10, 10))\n",
    "    \n",
    "    # ----- Visualize the RF -------\n",
    "    # add a black background\n",
    "    ax = axs.ravel()[axs_to_plt[i]]\n",
    "    ax.imshow(np.zeros_like(rf), vmin=0., vmax=1., cmap='gray')\n",
    "    ax_im = ax.imshow(np.ma.masked_less(rf, 0.1), interpolation=\"nearest\",\n",
    "                      cmap=['Blues', 'Greens', 'Reds', 'Purples'][i],\n",
    "                      vmin=0., vmax=0.75)\n",
    "    \n",
    "    # add the marked pixel\n",
    "    ax.add_patch(Rectangle(\n",
    "                 (marked_pixel[1] - .5, marked_pixel[0] - .5), 1, 1,\n",
    "                 facecolor=\"none\", edgecolor='r', lw=4))\n",
    "    plt.colorbar(ax_im, ax=ax, shrink=.7)\n",
    "    \n",
    "for ax in axs.ravel()[[3, 5]]:\n",
    "    ax.set_axis_off()\n",
    "fig.suptitle('Receptive fields of the marked voxels', fontsize=25)\n",
    "plt.tight_layout()"
   ]
  },
  {
   "cell_type": "code",
   "execution_count": null,
   "metadata": {},
   "outputs": [],
   "source": []
  }
 ],
 "metadata": {
  "kernelspec": {
   "display_name": "Python 3",
   "language": "python",
   "name": "python3"
  },
  "language_info": {
   "codemirror_mode": {
    "name": "ipython",
    "version": 3
   },
   "file_extension": ".py",
   "mimetype": "text/x-python",
   "name": "python",
   "nbconvert_exporter": "python",
   "pygments_lexer": "ipython3",
   "version": "3.7.1"
  }
 },
 "nbformat": 4,
 "nbformat_minor": 2
}
